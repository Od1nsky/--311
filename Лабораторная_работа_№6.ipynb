{
  "nbformat": 4,
  "nbformat_minor": 0,
  "metadata": {
    "colab": {
      "provenance": [],
      "collapsed_sections": [],
      "authorship_tag": "ABX9TyPzz6WD0oOs2b8kEf81P3+m",
      "include_colab_link": true
    },
    "kernelspec": {
      "name": "python3",
      "display_name": "Python 3"
    },
    "language_info": {
      "name": "python"
    }
  },
  "cells": [
    {
      "cell_type": "markdown",
      "metadata": {
        "id": "view-in-github",
        "colab_type": "text"
      },
      "source": [
        "<a href=\"https://colab.research.google.com/github/Od1nsky/Kapustian-VS-PI-311/blob/main/%D0%9B%D0%B0%D0%B1%D0%BE%D1%80%D0%B0%D1%82%D0%BE%D1%80%D0%BD%D0%B0%D1%8F_%D1%80%D0%B0%D0%B1%D0%BE%D1%82%D0%B0_%E2%84%966.ipynb\" target=\"_parent\"><img src=\"https://colab.research.google.com/assets/colab-badge.svg\" alt=\"Open In Colab\"/></a>"
      ]
    },
    {
      "cell_type": "code",
      "execution_count": null,
      "metadata": {
        "colab": {
          "base_uri": "https://localhost:8080/",
          "height": 562
        },
        "id": "oUElM4xfX2sG",
        "outputId": "b6af5b55-b4da-4779-e8ea-7661d25f8194"
      },
      "outputs": [
        {
          "output_type": "display_data",
          "data": {
            "text/plain": [
              "<Figure size 750x400 with 1 Axes>"
            ],
            "image/png": "[encoded data removed]"
          },
          "metadata": {
            "needs_background": "light"
          }
        },
        {
          "output_type": "stream",
          "name": "stdout",
          "text": [
            "цельсия[-67.0]= фаренгейт [-88.6]\n",
            "цельсия[-34.0]= фаренгейт [-29.2]\n",
            "цельсия[0]= фаренгейт [32.0]\n",
            "цельсия[54.0]= фаренгейт [93.2]\n",
            "цельсия[100]= фаренгейт [129.2]\n",
            "цельсия [-50] фаренгейта [-51.57743455]\n",
            "цельсия [10] фаренгейта [26.53883728]\n",
            "цельсия [30] фаренгейта [52.57759456]\n",
            "цельсия [20] фаренгейта [39.55821592]\n",
            "цельсия [10] фаренгейта [26.53883728]\n",
            "цельсия [70] фаренгейта [104.65510912]\n",
            "цельсия [87] фаренгейта [126.7880528]\n"
          ]
        }
      ],
      "source": [
        "import matplotlib.pyplot as plt\n",
        "\n",
        "\n",
        "celsius = [[-67.0], [-34.0], [0], [54.0], [100]]\n",
        "farenheit = [[-88.6], [-29.2], [32.0],[93.2],[129.2]]\n",
        "\n",
        "import numpy as np\n",
        "\n",
        "x_range = np.arange(-70, 120)\n",
        "y_range = x_range*1.8+32\n",
        "\n",
        "plt.figure(figsize=(15,8), dpi=50)\n",
        "plt.scatter(celsius, farenheit, label=\"Входные значения\", color=\"green\", marker=\"$f$\")\n",
        "plt.xlabel(\"celsius\")\n",
        "plt.ylabel(\"farenheit\")\n",
        "plt.legend()\n",
        "plt.grid(True)\n",
        "plt.show()\n",
        "\n",
        "for c,f in zip(celsius, farenheit):\n",
        "  print(f\"цельсия{c}= фаренгейт {f}\")\n",
        "\n",
        "from sklearn.linear_model import LinearRegression\n",
        "\n",
        "lr = LinearRegression()\n",
        "lr.fit(celsius, farenheit)\n",
        "lr.predict([[256], [123]])\n",
        "lr.coef_\n",
        "lr.intercept_\n",
        "celsius_test = [[-50], [10], [30], [20], [10], [70], [87]]\n",
        "farenheit_test = lr.predict(celsius_test)\n",
        "farenheit_test\n",
        "\n",
        "for c,f in zip(celsius_test, farenheit_test):\n",
        "  print(f\"цельсия {c} фаренгейта {f}\" )\n",
        "\n"
      ]
    },
    {
      "cell_type": "markdown",
      "source": [
        "Задания обычной сложности"
      ],
      "metadata": {
        "id": "D9D6hc9JfxR7"
      }
    },
    {
      "cell_type": "markdown",
      "source": [
        "Задание 1"
      ],
      "metadata": {
        "id": "CZHN35aIlGjf"
      }
    },
    {
      "cell_type": "code",
      "source": [
        "import matplotlib.pyplot as plt\n",
        "\n",
        "farenheit = [[0], [10],[20], [30]]\n",
        "kelvin = [[255.372], [260.928], [266.483], [272.039]]\n",
        "\n",
        "import numpy as np\n",
        "\n",
        "x_range = np.arange(-70, 120)\n",
        "y_range = x_range*1.8+32\n",
        "\n",
        "plt.figure(figsize=(15,8), dpi=50)\n",
        "plt.scatter(farenheit, kelvin, label=\"Входные значения\", color=\"green\", marker=\"$f$\")\n",
        "plt.xlabel(\"farenheit\")\n",
        "plt.ylabel(\"kelvin\")\n",
        "plt.legend()\n",
        "plt.grid(True)\n",
        "plt.show()\n",
        "\n",
        "for c,f in zip(farenheit, kelvin):\n",
        "  print(f\"фаренгейт{c}= кельвин{f}\")\n",
        "\n",
        "from sklearn.linear_model import LinearRegression\n",
        "\n",
        "lr = LinearRegression()\n",
        "lr.fit(farenheit, kelvin)\n",
        "lr.predict([[256], [123]])\n",
        "lr.coef_\n",
        "lr.intercept_\n",
        "farenheit_test = [[-50], [10], [30], [20], [10], [70], [87]]\n",
        "kelvin_test = lr.predict(celsius_test)\n",
        "print(kelvin_test)\n",
        "\n",
        "for c,f in zip(farenheit_test, kelvin_test):\n",
        "  print(f\"фаренгейта {c} кельвина {f}\" )\n",
        "\n",
        "\n"
      ],
      "metadata": {
        "colab": {
          "base_uri": "https://localhost:8080/",
          "height": 654
        },
        "id": "uaruFSgrfw5Y",
        "outputId": "9816c10a-2a91-4bf2-8959-3570441c1689"
      },
      "execution_count": null,
      "outputs": [
        {
          "output_type": "display_data",
          "data": {
            "text/plain": [
              "<Figure size 750x400 with 1 Axes>"
            ],
            "image/png": "[encoded data removed]"
          },
          "metadata": {
            "needs_background": "light"
          }
        },
        {
          "output_type": "stream",
          "name": "stdout",
          "text": [
            "фаренгейт[0]= кельвин[255.372]\n",
            "фаренгейт[10]= кельвин[260.928]\n",
            "фаренгейт[20]= кельвин[266.483]\n",
            "фаренгейт[30]= кельвин[272.039]\n",
            "[[227.5941 ]\n",
            " [260.9277 ]\n",
            " [272.0389 ]\n",
            " [266.4833 ]\n",
            " [260.9277 ]\n",
            " [294.2613 ]\n",
            " [303.70582]]\n",
            "фаренгейта [-50] кельвина [227.5941]\n",
            "фаренгейта [10] кельвина [260.9277]\n",
            "фаренгейта [30] кельвина [272.0389]\n",
            "фаренгейта [20] кельвина [266.4833]\n",
            "фаренгейта [10] кельвина [260.9277]\n",
            "фаренгейта [70] кельвина [294.2613]\n",
            "фаренгейта [87] кельвина [303.70582]\n"
          ]
        }
      ]
    },
    {
      "cell_type": "markdown",
      "source": [
        "Задание 2"
      ],
      "metadata": {
        "id": "PGFaxfvclK08"
      }
    },
    {
      "cell_type": "code",
      "source": [],
      "metadata": {
        "id": "ieQfLZi6lN3Y"
      },
      "execution_count": null,
      "outputs": []
    }
  ]
}